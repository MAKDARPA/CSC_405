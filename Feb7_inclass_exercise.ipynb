{
 "cells": [
  {
   "cell_type": "markdown",
   "id": "a030f3f7",
   "metadata": {},
   "source": [
    "### Import the numpy package"
   ]
  },
  {
   "cell_type": "code",
   "execution_count": 3,
   "id": "2a0a7434",
   "metadata": {},
   "outputs": [],
   "source": [
    "import numpy as np "
   ]
  },
  {
   "cell_type": "markdown",
   "id": "631263ed",
   "metadata": {},
   "source": [
    "### Generate a 1D NumPy array of 10 random integers between 1 and 100."
   ]
  },
  {
   "cell_type": "code",
   "execution_count": 2,
   "id": "6e57d702",
   "metadata": {},
   "outputs": [
    {
     "name": "stdout",
     "output_type": "stream",
     "text": [
      "[77 48 22 28  2 65  1 98 96 56]\n"
     ]
    }
   ],
   "source": [
    "array_1d = np.random.randint(1, 101, size=10)\n",
    "print(array_1d)  "
   ]
  },
  {
   "cell_type": "markdown",
   "id": "ba8d04ee",
   "metadata": {},
   "source": [
    "### Access and print the first and last elements of the array."
   ]
  },
  {
   "cell_type": "code",
   "execution_count": 4,
   "id": "c67c368c",
   "metadata": {},
   "outputs": [
    {
     "name": "stdout",
     "output_type": "stream",
     "text": [
      "First element: 77\n",
      "Last element: 56\n"
     ]
    }
   ],
   "source": [
    "first_element = array_1d[0]  \n",
    "last_element = array_1d[-1]  \n",
    "\n",
    "print(\"First element:\", first_element)\n",
    "print(\"Last element:\", last_element)\n"
   ]
  },
  {
   "attachments": {},
   "cell_type": "markdown",
   "id": "4f521a3f",
   "metadata": {},
   "source": [
    "### Generate a 2D NumPy array of shape (3, 3) with random floating-point numbers."
   ]
  },
  {
   "cell_type": "code",
   "execution_count": 6,
   "id": "2f7fd130",
   "metadata": {},
   "outputs": [
    {
     "name": "stdout",
     "output_type": "stream",
     "text": [
      "[[0.03926385 0.22879919 0.11348162]\n",
      " [0.47854255 0.37187339 0.40693735]\n",
      " [0.89072337 0.10354513 0.50421213]]\n"
     ]
    }
   ],
   "source": [
    "array_2d = np.random.rand(3, 3)\n",
    "print(array_2d)\n"
   ]
  },
  {
   "cell_type": "markdown",
   "id": "bf846a93",
   "metadata": {},
   "source": [
    "### Print the first row of the 2D array."
   ]
  },
  {
   "cell_type": "code",
   "execution_count": 7,
   "id": "1a7be633",
   "metadata": {},
   "outputs": [
    {
     "name": "stdout",
     "output_type": "stream",
     "text": [
      "[0.03926385 0.22879919 0.11348162]\n"
     ]
    }
   ],
   "source": [
    "print(array_2d[0])\n"
   ]
  },
  {
   "cell_type": "markdown",
   "id": "407408b2",
   "metadata": {},
   "source": [
    "### Print the last column of the 2D array."
   ]
  },
  {
   "cell_type": "code",
   "execution_count": 8,
   "id": "baa53077",
   "metadata": {},
   "outputs": [
    {
     "name": "stdout",
     "output_type": "stream",
     "text": [
      "[0.11348162 0.40693735 0.50421213]\n"
     ]
    }
   ],
   "source": [
    "print(array_2d[:, -1])\n"
   ]
  },
  {
   "cell_type": "markdown",
   "id": "03abbe96",
   "metadata": {},
   "source": [
    "### Print a sub-array consisting of the first two rows and first two columns."
   ]
  },
  {
   "cell_type": "code",
   "execution_count": 9,
   "id": "b43d267f",
   "metadata": {},
   "outputs": [
    {
     "name": "stdout",
     "output_type": "stream",
     "text": [
      "[[0.03926385 0.22879919]\n",
      " [0.47854255 0.37187339]]\n"
     ]
    }
   ],
   "source": [
    "sub_array = array_2d[:2, :2]\n",
    "print(sub_array)\n"
   ]
  },
  {
   "cell_type": "markdown",
   "id": "8e2aecef",
   "metadata": {},
   "source": [
    "### Generate two 1D arrays of 5 random integers each, in the range [0, 10)\n"
   ]
  },
  {
   "cell_type": "code",
   "execution_count": 17,
   "id": "00b0714a",
   "metadata": {},
   "outputs": [
    {
     "name": "stdout",
     "output_type": "stream",
     "text": [
      "[9 2 7 2 5]\n",
      "[4 2 5 5 2]\n"
     ]
    }
   ],
   "source": [
    "array1 = np.random.randint(0, 10, 5)\n",
    "array2 = np.random.randint(0, 10, 5)\n",
    "\n",
    "print(array1)\n",
    "print(array2)"
   ]
  },
  {
   "cell_type": "markdown",
   "id": "70b641df",
   "metadata": {},
   "source": [
    "### Add the two arrays and print the result"
   ]
  },
  {
   "cell_type": "code",
   "execution_count": 18,
   "id": "bdcfc893",
   "metadata": {},
   "outputs": [
    {
     "name": "stdout",
     "output_type": "stream",
     "text": [
      "Added Arrays: [13  4 12  7  7]\n"
     ]
    }
   ],
   "source": [
    "added_arrays = array1 + array2\n",
    "print(\"Added Arrays:\", added_arrays)\n"
   ]
  },
  {
   "cell_type": "markdown",
   "id": "d74d943f",
   "metadata": {},
   "source": [
    "### Multiply the two arrays (element-wise) and print the result\n"
   ]
  },
  {
   "cell_type": "code",
   "execution_count": 19,
   "id": "8bc97b0a",
   "metadata": {},
   "outputs": [
    {
     "name": "stdout",
     "output_type": "stream",
     "text": [
      "Multiplied Arrays: [36  4 35 10 10]\n"
     ]
    }
   ],
   "source": [
    "multiplied_arrays = array1 * array2\n",
    "print(\"Multiplied Arrays:\", multiplied_arrays)\n"
   ]
  },
  {
   "cell_type": "markdown",
   "id": "2e65dddc",
   "metadata": {},
   "source": [
    "### Calculate the square of every element in the first array and print it\n"
   ]
  },
  {
   "cell_type": "code",
   "execution_count": 20,
   "id": "47d1bc55",
   "metadata": {},
   "outputs": [
    {
     "name": "stdout",
     "output_type": "stream",
     "text": [
      "Squared Array 1: [81  4 49  4 25]\n"
     ]
    }
   ],
   "source": [
    "squared_array1 = array1 ** 2\n",
    "print(\"Squared Array 1:\", squared_array1)"
   ]
  },
  {
   "cell_type": "markdown",
   "id": "a40631fa",
   "metadata": {},
   "source": [
    "### Generate two 2D NumPy arrays, A of shape (2, 3) and B of shape (3, 2), with random integers."
   ]
  },
  {
   "cell_type": "code",
   "execution_count": 21,
   "id": "5d5e067a",
   "metadata": {},
   "outputs": [
    {
     "name": "stdout",
     "output_type": "stream",
     "text": [
      "Array A:\n",
      "[[4 2 8]\n",
      " [3 1 4]]\n",
      "Array B:\n",
      "[[5 2]\n",
      " [7 6]\n",
      " [1 3]]\n"
     ]
    }
   ],
   "source": [
    "A = np.random.randint(0, 10, (2, 3))\n",
    "B = np.random.randint(0, 10, (3, 2))\n",
    "\n",
    "print(\"Array A:\")\n",
    "print(A)\n",
    "print(\"Array B:\")\n",
    "print(B)"
   ]
  },
  {
   "cell_type": "markdown",
   "id": "6de04be6",
   "metadata": {},
   "source": [
    "### Perform matrix multiplication between A and B and print the result"
   ]
  },
  {
   "cell_type": "code",
   "execution_count": 22,
   "id": "710e1eb1",
   "metadata": {},
   "outputs": [
    {
     "name": "stdout",
     "output_type": "stream",
     "text": [
      "Matrix multiplication result (A @ B):\n",
      "[[42 44]\n",
      " [26 24]]\n"
     ]
    }
   ],
   "source": [
    "result_matrix_multiplication = A @ B\n",
    "print(\"Matrix multiplication result (A @ B):\")\n",
    "print(result_matrix_multiplication)"
   ]
  },
  {
   "attachments": {},
   "cell_type": "markdown",
   "id": "55e3c619",
   "metadata": {},
   "source": [
    "### Can A and B perform element-wise multiplication using *"
   ]
  },
  {
   "cell_type": "markdown",
   "id": "d23a7944",
   "metadata": {},
   "source": [
    "No, A and B cannot perform element-wise multiplication because their shapes do not match. Element-wise multiplication requires the arrays to have the same shape, but A is (2, 3) and B is (3, 2)."
   ]
  },
  {
   "cell_type": "code",
   "execution_count": null,
   "id": "91eb7282",
   "metadata": {},
   "outputs": [],
   "source": []
  }
 ],
 "metadata": {
  "kernelspec": {
   "display_name": "Python 3 (ipykernel)",
   "language": "python",
   "name": "python3"
  },
  "language_info": {
   "codemirror_mode": {
    "name": "ipython",
    "version": 3
   },
   "file_extension": ".py",
   "mimetype": "text/x-python",
   "name": "python",
   "nbconvert_exporter": "python",
   "pygments_lexer": "ipython3",
   "version": "3.11.5"
  }
 },
 "nbformat": 4,
 "nbformat_minor": 5
}
