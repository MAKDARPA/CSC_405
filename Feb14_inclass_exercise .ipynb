{
 "cells": [
  {
   "cell_type": "code",
   "execution_count": 21,
   "id": "69f64104",
   "metadata": {},
   "outputs": [],
   "source": [
    "import pandas as pd\n",
    "import seaborn as sns \n",
    "iris = sns.load_dataset('iris')"
   ]
  },
  {
   "cell_type": "markdown",
   "id": "4eb90033",
   "metadata": {},
   "source": [
    "### Display the first 5 rows of the dataset"
   ]
  },
  {
   "cell_type": "code",
   "execution_count": 22,
   "id": "cd6e34c8",
   "metadata": {},
   "outputs": [
    {
     "name": "stdout",
     "output_type": "stream",
     "text": [
      "First 5 rows of the Iris dataset:\n",
      "   sepal_length  sepal_width  petal_length  petal_width species\n",
      "0           5.1          3.5           1.4          0.2  setosa\n",
      "1           4.9          3.0           1.4          0.2  setosa\n",
      "2           4.7          3.2           1.3          0.2  setosa\n",
      "3           4.6          3.1           1.5          0.2  setosa\n",
      "4           5.0          3.6           1.4          0.2  setosa\n"
     ]
    }
   ],
   "source": [
    "first_five_rows = iris.head()\n",
    "\n",
    "print(\"First 5 rows of the Iris dataset:\")\n",
    "print(first_five_rows)"
   ]
  },
  {
   "cell_type": "markdown",
   "id": "24fb0fe1",
   "metadata": {},
   "source": [
    "### Display thhe summary statistics of the dataset using describe()"
   ]
  },
  {
   "cell_type": "code",
   "execution_count": 23,
   "id": "016e7051",
   "metadata": {},
   "outputs": [
    {
     "name": "stdout",
     "output_type": "stream",
     "text": [
      "Summary statistics of the Iris dataset:\n",
      "       sepal_length  sepal_width  petal_length  petal_width\n",
      "count    150.000000   150.000000    150.000000   150.000000\n",
      "mean       5.843333     3.057333      3.758000     1.199333\n",
      "std        0.828066     0.435866      1.765298     0.762238\n",
      "min        4.300000     2.000000      1.000000     0.100000\n",
      "25%        5.100000     2.800000      1.600000     0.300000\n",
      "50%        5.800000     3.000000      4.350000     1.300000\n",
      "75%        6.400000     3.300000      5.100000     1.800000\n",
      "max        7.900000     4.400000      6.900000     2.500000\n"
     ]
    }
   ],
   "source": [
    "summary_statistics = iris.describe()\n",
    "\n",
    "print(\"Summary statistics of the Iris dataset:\")\n",
    "print(summary_statistics)"
   ]
  },
  {
   "cell_type": "markdown",
   "id": "3b8de26e",
   "metadata": {},
   "source": [
    "### Mean of the 'sepal_length'"
   ]
  },
  {
   "cell_type": "code",
   "execution_count": 24,
   "id": "38882850",
   "metadata": {},
   "outputs": [
    {
     "name": "stdout",
     "output_type": "stream",
     "text": [
      "Mean of sepal_length:\n",
      "5.843333333333334\n"
     ]
    }
   ],
   "source": [
    "mean_sepal_length = iris['sepal_length'].mean()\n",
    "\n",
    "print(\"Mean of sepal_length:\")\n",
    "print(mean_sepal_length)"
   ]
  },
  {
   "cell_type": "markdown",
   "id": "3f14e420",
   "metadata": {},
   "source": [
    "### Median of 'sepal_width'"
   ]
  },
  {
   "cell_type": "code",
   "execution_count": 25,
   "id": "ee432449",
   "metadata": {},
   "outputs": [
    {
     "name": "stdout",
     "output_type": "stream",
     "text": [
      "Median of sepal_width:\n",
      "3.0\n"
     ]
    }
   ],
   "source": [
    "median_sepal_width = iris['sepal_width'].median()\n",
    "print(\"Median of sepal_width:\")\n",
    "print(median_sepal_width)"
   ]
  },
  {
   "cell_type": "markdown",
   "id": "1d95ca32",
   "metadata": {},
   "source": [
    "### Mode of the 'species'"
   ]
  },
  {
   "cell_type": "code",
   "execution_count": 26,
   "id": "b41ff165",
   "metadata": {},
   "outputs": [
    {
     "name": "stdout",
     "output_type": "stream",
     "text": [
      "Mode of 'species':\n",
      "setosa\n"
     ]
    }
   ],
   "source": [
    "mode_species = iris['species'].mode()\n",
    "\n",
    "print(\"Mode of 'species':\")\n",
    "print(mode_species[0])"
   ]
  },
  {
   "cell_type": "markdown",
   "id": "25b4942c",
   "metadata": {},
   "source": [
    "### Compute the variance of 'petal_length'"
   ]
  },
  {
   "cell_type": "code",
   "execution_count": 27,
   "id": "7ad7cafc",
   "metadata": {},
   "outputs": [
    {
     "name": "stdout",
     "output_type": "stream",
     "text": [
      "Variance of petal_length:\n",
      "3.1162778523489942\n"
     ]
    }
   ],
   "source": [
    "variance_petal_length = iris['petal_length'].var()\n",
    "\n",
    "print(\"Variance of petal_length:\")\n",
    "print(variance_petal_length)"
   ]
  },
  {
   "cell_type": "markdown",
   "id": "51cf3100",
   "metadata": {},
   "source": [
    "### Calculate the standard deviation of 'petal_width'"
   ]
  },
  {
   "cell_type": "code",
   "execution_count": 28,
   "id": "b97ce3e9",
   "metadata": {},
   "outputs": [
    {
     "name": "stdout",
     "output_type": "stream",
     "text": [
      "Standard deviation of petal_width:\n",
      "0.7622376689603465\n"
     ]
    }
   ],
   "source": [
    "std_dev_petal_width = iris['petal_width'].std()\n",
    "\n",
    "print(\"Standard deviation of petal_width:\")\n",
    "print(std_dev_petal_width)"
   ]
  },
  {
   "cell_type": "markdown",
   "id": "94515fe9",
   "metadata": {},
   "source": [
    "### Skewness of the entire dataset"
   ]
  },
  {
   "cell_type": "code",
   "execution_count": 29,
   "id": "4488962a",
   "metadata": {},
   "outputs": [
    {
     "name": "stdout",
     "output_type": "stream",
     "text": [
      "Skewness of the numeric columns in the dataset:\n",
      "sepal_length    0.314911\n",
      "sepal_width     0.318966\n",
      "petal_length   -0.274884\n",
      "petal_width    -0.102967\n",
      "dtype: float64\n"
     ]
    }
   ],
   "source": [
    "numeric_columns = iris.select_dtypes(include=['float64'])\n",
    "skewness = numeric_columns.skew()\n",
    "\n",
    "print(\"Skewness of the numeric columns in the dataset:\")\n",
    "print(skewness)"
   ]
  },
  {
   "cell_type": "markdown",
   "id": "51391a44",
   "metadata": {},
   "source": [
    "### Kurtosis of 'sepal_length'"
   ]
  },
  {
   "cell_type": "code",
   "execution_count": 30,
   "id": "b804d36f",
   "metadata": {},
   "outputs": [
    {
     "name": "stdout",
     "output_type": "stream",
     "text": [
      "Kurtosis of sepal_length:\n",
      "-0.5520640413156395\n"
     ]
    }
   ],
   "source": [
    "kurtosis_sepal_length = iris['sepal_length'].kurt()\n",
    "\n",
    "\n",
    "print(\"Kurtosis of sepal_length:\")\n",
    "print(kurtosis_sepal_length)"
   ]
  },
  {
   "cell_type": "markdown",
   "id": "12df721f",
   "metadata": {},
   "source": [
    "### Calculate the 25th, 50th, and 75th percentiles of 'petal_length'\n"
   ]
  },
  {
   "cell_type": "code",
   "execution_count": 31,
   "id": "0fd43544",
   "metadata": {},
   "outputs": [
    {
     "name": "stdout",
     "output_type": "stream",
     "text": [
      "25th, 50th, and 75th percentiles of petal_length:\n",
      "0.25    1.60\n",
      "0.50    4.35\n",
      "0.75    5.10\n",
      "Name: petal_length, dtype: float64\n"
     ]
    }
   ],
   "source": [
    "quantiles_petal_length = iris['petal_length'].quantile([0.25, 0.5, 0.75])\n",
    "\n",
    "print(\"25th, 50th, and 75th percentiles of petal_length:\")\n",
    "print(quantiles_petal_length)"
   ]
  }
 ],
 "metadata": {
  "kernelspec": {
   "display_name": "Python 3 (ipykernel)",
   "language": "python",
   "name": "python3"
  },
  "language_info": {
   "codemirror_mode": {
    "name": "ipython",
    "version": 3
   },
   "file_extension": ".py",
   "mimetype": "text/x-python",
   "name": "python",
   "nbconvert_exporter": "python",
   "pygments_lexer": "ipython3",
   "version": "3.11.5"
  }
 },
 "nbformat": 4,
 "nbformat_minor": 5
}
