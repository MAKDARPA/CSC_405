{
 "cells": [
  {
   "cell_type": "markdown",
   "id": "dfdb7a50",
   "metadata": {},
   "source": [
    "# Muhammad Khan  In-Class Exercise 2/2/2024"
   ]
  },
  {
   "cell_type": "code",
   "execution_count": 23,
   "id": "f2efb49d",
   "metadata": {},
   "outputs": [],
   "source": [
    "import pandas as pd"
   ]
  },
  {
   "cell_type": "markdown",
   "id": "915ef33e",
   "metadata": {},
   "source": [
    "### First DataFrame"
   ]
  },
  {
   "cell_type": "code",
   "execution_count": 24,
   "id": "36602b97",
   "metadata": {},
   "outputs": [],
   "source": [
    "data1 = {\n",
    "    'StudentID': [1,2,3,4],\n",
    "    'Name': ['Alice', 'Bob', 'Charlie', 'David']\n",
    "}\n",
    "df1 = pd.DataFrame(data1)"
   ]
  },
  {
   "cell_type": "markdown",
   "id": "e5ba55ef",
   "metadata": {},
   "source": [
    "### Second DataFrame"
   ]
  },
  {
   "cell_type": "code",
   "execution_count": 15,
   "id": "b247edb4",
   "metadata": {},
   "outputs": [],
   "source": [
    "data2 = {\n",
    "    'StudentID': [3, 4, 5, 6],\n",
    "    'Grade': ['A', 'B', 'C', 'D']\n",
    "}\n",
    "df2 = pd.DataFrame(data2)"
   ]
  },
  {
   "cell_type": "markdown",
   "id": "adf338ee",
   "metadata": {},
   "source": [
    "### Inner Join"
   ]
  },
  {
   "cell_type": "code",
   "execution_count": 16,
   "id": "92a50882",
   "metadata": {},
   "outputs": [],
   "source": [
    "inner_join_df = pd.merge(df1, df2, on='StudentID', how='inner')"
   ]
  },
  {
   "cell_type": "markdown",
   "id": "8c01be57",
   "metadata": {},
   "source": [
    "### Left Join"
   ]
  },
  {
   "cell_type": "code",
   "execution_count": 17,
   "id": "81527ba5",
   "metadata": {},
   "outputs": [],
   "source": [
    "left_join_df = pd.merge(df1, df2, on='StudentID', how='left')"
   ]
  },
  {
   "cell_type": "markdown",
   "id": "f4fd444b",
   "metadata": {},
   "source": [
    "### Right Join"
   ]
  },
  {
   "cell_type": "code",
   "execution_count": null,
   "id": "e321072e",
   "metadata": {},
   "outputs": [],
   "source": [
    "right_join_df = pd.merge(df1, df2, on='StudentID', how='right')\n"
   ]
  },
  {
   "cell_type": "markdown",
   "id": "f940281c",
   "metadata": {},
   "source": [
    "### Third DataFrame for Sales Data"
   ]
  },
  {
   "cell_type": "code",
   "execution_count": 18,
   "id": "868b7f7a",
   "metadata": {},
   "outputs": [],
   "source": [
    "sales_data = {\n",
    "    'Salesperson': ['Alice', 'Bob', 'Charlie', 'Alice', 'Bob', 'Charlie'],\n",
    "    'Product': ['Widget', 'Widget', 'Gadget', 'Gadget', 'Widget', 'Gadget'],\n",
    "    'Quantity': [4, 2, 3, 5, 6, 1]\n",
    "}\n",
    "df_sales = pd.DataFrame(sales_data)\n"
   ]
  },
  {
   "cell_type": "markdown",
   "id": "b2801b99",
   "metadata": {},
   "source": [
    "### Group by Salesperson and Sum Quantity\n"
   ]
  },
  {
   "cell_type": "code",
   "execution_count": 19,
   "id": "1a82e44e",
   "metadata": {},
   "outputs": [],
   "source": [
    "salesperson_group = df_sales.groupby('Salesperson')['Quantity'].sum().reset_index()\n"
   ]
  },
  {
   "cell_type": "markdown",
   "id": "9d6fbb93",
   "metadata": {},
   "source": [
    "### Group by Product and calculate the average Quantity\n"
   ]
  },
  {
   "cell_type": "code",
   "execution_count": 25,
   "id": "418e8ffa",
   "metadata": {},
   "outputs": [],
   "source": [
    "product_group = df_sales.groupby('Product')['Quantity'].mean().reset_index()\n"
   ]
  }
 ],
 "metadata": {
  "kernelspec": {
   "display_name": "Python 3 (ipykernel)",
   "language": "python",
   "name": "python3"
  },
  "language_info": {
   "codemirror_mode": {
    "name": "ipython",
    "version": 3
   },
   "file_extension": ".py",
   "mimetype": "text/x-python",
   "name": "python",
   "nbconvert_exporter": "python",
   "pygments_lexer": "ipython3",
   "version": "3.11.5"
  }
 },
 "nbformat": 4,
 "nbformat_minor": 5
}
